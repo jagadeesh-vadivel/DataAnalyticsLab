{
 "cells": [
  {
   "cell_type": "code",
   "execution_count": 1,
   "metadata": {},
   "outputs": [
    {
     "name": "stdout",
     "output_type": "stream",
     "text": [
      "Nothing\n",
      "File Not Found\n",
      "File Not Found\n",
      "File Not Found\n",
      "File Not Found\n"
     ]
    }
   ],
   "source": [
    "#Python program to scrape website \n",
    "#and save quotes from website\n",
    "import requests\n",
    "import pyautogui\n",
    "import webbrowser\n",
    "import time\n",
    "from bs4 import BeautifulSoup\n",
    "import csv\n",
    "import re\n",
    "URL = \"http://www.psgtech.edu/index.php\"\n",
    "r = requests.get(URL)\n",
    "webbrowser.open(\"http://www.google.com/\",new=2);\n",
    "soup = BeautifulSoup(r.content, 'html5lib')\n",
    "i = 1\n",
    "op=open(\"Output.txt\",\"w\")\n",
    "for an in soup.findAll('div',{'class':'list-group'}):\n",
    "    try:\n",
    "        url=(an.a.get('href'))\n",
    "        if(re.match(\"hme.php\",url)):    \n",
    "            op.write('\\n'+an.text.strip())\n",
    "            op.write('\\n'+\"http://www.psgtech.edu/\"+url)\n",
    "            time.sleep(2)\n",
    "            pyautogui.click(444,68)\n",
    "            pyautogui.typewrite(\"http://www.psgtech.edu/\"+url)\n",
    "            pyautogui.typewrite([\"enter\"])\n",
    "            time.sleep(3)\n",
    "            pyautogui.click(444,68)\n",
    "            pyautogui.typewrite(\"http://www.psgtech.edu/prografac.php\")\n",
    "            pyautogui.typewrite([\"enter\"])\n",
    "            time.sleep(4)\n",
    "            pyautogui.hotkey('ctrl','s')\n",
    "            time.sleep(3)\n",
    "            pyautogui.typewrite(str(i))\n",
    "            i+=1\n",
    "            time.sleep(2)\n",
    "            pyautogui.typewrite([\"enter\"])\n",
    "            time.sleep(4)\n",
    "    except:\n",
    "        print(\"Nothing\")\n",
    "time.sleep(10)\n",
    "for j in range(1,i):\n",
    "    try:\n",
    "        link=str(j)+\".html\"\n",
    "        f = open(link,\"r\")\n",
    "        s=f.read()\n",
    "        soup1 = BeautifulSoup(s, 'html5lib')\n",
    "        for an1 in soup1.findAll('div',{'class':'tg-departmentbox'}):\n",
    "            deptname=an1.text.strip()\n",
    "            deptname = deptname.replace(\"\\n\",\" \")\n",
    "            op.write('\\n'+deptname)\n",
    "        pattern=re.compile(\"^Dr.\")\n",
    "        for an2 in soup1.findAll('div',{'class':'col-sm-6 col-md-8'}):\n",
    "            name=an2.text\n",
    "            name=name.strip()\n",
    "            name = name.replace(\"\\n\",\" \")\n",
    "            if(pattern.match(name)):\n",
    "                op.write('\\n'+name)       \n",
    "        f.close()  \n",
    "    except:\n",
    "        print(\"File Not Found\")\n",
    "op.close()"
   ]
  },
  {
   "cell_type": "code",
   "execution_count": null,
   "metadata": {},
   "outputs": [],
   "source": []
  },
  {
   "cell_type": "code",
   "execution_count": null,
   "metadata": {},
   "outputs": [],
   "source": []
  }
 ],
 "metadata": {
  "kernelspec": {
   "display_name": "Python 3",
   "language": "python",
   "name": "python3"
  },
  "language_info": {
   "codemirror_mode": {
    "name": "ipython",
    "version": 3
   },
   "file_extension": ".py",
   "mimetype": "text/x-python",
   "name": "python",
   "nbconvert_exporter": "python",
   "pygments_lexer": "ipython3",
   "version": "3.6.5"
  }
 },
 "nbformat": 4,
 "nbformat_minor": 2
}
